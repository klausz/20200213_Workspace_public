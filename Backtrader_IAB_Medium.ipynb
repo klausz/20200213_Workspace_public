{
 "cells": [
  {
   "cell_type": "code",
   "execution_count": 9,
   "metadata": {},
   "outputs": [],
   "source": [
    "#!/usr/bin/env python\n",
    "# -*- coding: utf-8; py-indent-offset:4 -*-\n",
    "###############################################################################\n",
    "#\n",
    "# Copyright (C) 2018 Daniel Rodriguez\n",
    "#\n",
    "# This program is free software: you can redistribute it and/or modify\n",
    "# it under the terms of the GNU General Public License as published by\n",
    "# the Free Software Foundation, either version 3 of the License, or\n",
    "# (at your option) any later version.\n",
    "#\n",
    "# This program is distributed in the hope that it will be useful,\n",
    "# but WITHOUT ANY WARRANTY; without even the implied warranty of\n",
    "# MERCHANTABILITY or FITNESS FOR A PARTICULAR PURPOSE.  See the\n",
    "# GNU General Public License for more details.\n",
    "#\n",
    "# You should have received a copy of the GNU General Public License\n",
    "# along with this program.  If not, see <http://www.gnu.org/licenses/>.\n",
    "#\n",
    "###############################################################################"
   ]
  },
  {
   "cell_type": "code",
   "execution_count": 10,
   "metadata": {},
   "outputs": [],
   "source": [
    "import backtrader as bt"
   ]
  },
  {
   "cell_type": "code",
   "execution_count": 11,
   "metadata": {},
   "outputs": [],
   "source": [
    "#import backtrader.stores.ibstore as ibstore"
   ]
  },
  {
   "cell_type": "code",
   "execution_count": 12,
   "metadata": {},
   "outputs": [],
   "source": [
    "from __future__ import (absolute_import, division, print_function, unicode_literals)"
   ]
  },
  {
   "cell_type": "code",
   "execution_count": 13,
   "metadata": {},
   "outputs": [],
   "source": [
    "class St(bt.Strategy): \n",
    "    def logdata(self):\n",
    "        txt = [] \n",
    "        txt.append('{}'.format(len(self)))\n",
    "        txt.append('{}'.format(self.data.datetime.datetime(0).isoformat()))\n",
    "        txt.append('{:.2f}'.format(self.data.open[0])) \n",
    "        txt.append('{:.2f}'.format(self.data.high[0])) \n",
    "        txt.append('{:.2f}'.format(self.data.low[0])) \n",
    "        txt.append('{:.2f}'.format(self.data.close[0])) \n",
    "        txt.append('{:.2f}'.format(self.data.volume[0])) \n",
    "        print(','.join(txt))\n",
    "\n",
    "    data_live = False\n",
    "    \n",
    "    def notify_data(self, data, status, *args, **kwargs): \n",
    "        print('*' * 5, 'DATA NOTIF:', data._getstatusname(status), *args)\n",
    "        if status == data.LIVE: \n",
    "            self.data_live = True        \n",
    "\n",
    "#seems this is for buying, selling, make it more structured !\n",
    "    def notify_order(self, order):\n",
    "        if order.status == order.Completed:\n",
    "            buysell = 'BUY ' if order.isbuy() else 'SELL' \n",
    "            txt = '{} {}@{}'.format(buysell,order.executed.size,order.executed.price)\n",
    "            print(txt)           \n",
    "            \n",
    "    bought = 0 \n",
    "    sold = 0\n",
    "            \n",
    "    def next(self): \n",
    "        self.logdata()\n",
    "        if not self.data_live: \n",
    "            return\n",
    "        if not self.bought:\n",
    "            self.bought = len(self) # keep entry bar self.buy()\n",
    "        elif not self.sold:\n",
    "            if len(self) == (self.bought + 3):\n",
    "                self.sell()"
   ]
  },
  {
   "cell_type": "code",
   "execution_count": 14,
   "metadata": {},
   "outputs": [],
   "source": [
    "def run(args=None):\n",
    "    cerebro = bt.Cerebro(stdstats=False) \n",
    "    store = bt.stores.IBStore(port=7497)\n",
    "\n",
    "    data = store.getdata(dataname='TSLA', timeframe=bt.TimeFrame.Ticks)\n",
    "#    data = store.getdata(dataname='TWTR', timeframe=bt.TimeFrame.Ticks)\n",
    "\n",
    "\n",
    "    cerebro.resampledata(data, timeframe=bt.TimeFrame.Seconds, compression=10) \n",
    "\n",
    "    cerebro.broker = store.getbroker()\n",
    "    \n",
    "    cerebro.addstrategy(St)\n",
    "\n",
    "    cerebro.run()"
   ]
  },
  {
   "cell_type": "code",
   "execution_count": 15,
   "metadata": {},
   "outputs": [],
   "source": [
    "#cerebro.resampledata(data, timeframe=bt.TimeFrame.Seconds,compression=10) \n",
    "#cerebro.broker = store.getbroker()\n",
    "#cerebro.addstrategy(St)"
   ]
  },
  {
   "cell_type": "code",
   "execution_count": 16,
   "metadata": {},
   "outputs": [
    {
     "name": "stdout",
     "output_type": "stream",
     "text": [
      "Server Version: 76\n",
      "TWS Time at connection:20200617 23:11:17 CET\n",
      "***** DATA NOTIF: DISCONNECTED\n"
     ]
    }
   ],
   "source": [
    "if __name__ == '__main__': \n",
    "    run()\n",
    "    \n",
    "#Possibly a window in IB Trader goes up, asking if inging connectioins are \n",
    "#allowed. Also it work with visual studio    "
   ]
  },
  {
   "cell_type": "code",
   "execution_count": null,
   "metadata": {},
   "outputs": [],
   "source": []
  }
 ],
 "metadata": {
  "kernelspec": {
   "display_name": "Python 3",
   "language": "python",
   "name": "python3"
  },
  "language_info": {
   "codemirror_mode": {
    "name": "ipython",
    "version": 3
   },
   "file_extension": ".py",
   "mimetype": "text/x-python",
   "name": "python",
   "nbconvert_exporter": "python",
   "pygments_lexer": "ipython3",
   "version": "3.7.6"
  }
 },
 "nbformat": 4,
 "nbformat_minor": 4
}
